{
 "cells": [
  {
   "cell_type": "code",
   "execution_count": 2,
   "metadata": {},
   "outputs": [],
   "source": [
    "import pandas as pd\n",
    "import numpy as np \n",
    "import matplotlib.pyplot as plt\n",
    "import matplotlib.image as mpimg\n",
    "import matplotlib.ticker as ticker\n",
    "from PIL import Image\n",
    "import statsmodels.api as sm\n",
    "from sklearn.model_selection import train_test_split\n",
    "from sklearn import svm\n",
    "from sklearn.linear_model import LogisticRegression\n",
    "from sklearn.neighbors import KNeighborsClassifier\n",
    "from sklearn.linear_model import Lasso\n",
    "from sklearn.metrics import confusion_matrix, roc_curve, roc_auc_score\n",
    "from sklearn.metrics import mean_squared_error\n",
    "import warnings\n",
    "warnings.filterwarnings('ignore')"
   ]
  },
  {
   "attachments": {},
   "cell_type": "markdown",
   "metadata": {},
   "source": [
    "# Q1"
   ]
  },
  {
   "cell_type": "code",
   "execution_count": 327,
   "metadata": {},
   "outputs": [],
   "source": [
    "#讀取圖片資料並轉為dataframe\n",
    "data_p = []\n",
    "for i in range(1,41):\n",
    "    for j in range(1,11):\n",
    "        data_p.append(list(Image.open(f'C:/Users/USER/Desktop/Course/Data Analytics/DA05/ORL Faces/ORL Faces/{i}_{j}.png').getdata()))\n",
    "\n",
    "data_p = pd.DataFrame(np.array(data_p))\n",
    "\n",
    "#新增性別欄位，女性為0男性則為1\n",
    "for i in data_p.index:\n",
    "    if (i <= 9) | (70 <= i <= 79) | (90 <= i <= 99) | (310 <= i <= 319):\n",
    "        data_p.loc[i, 'sex'] = 0\n",
    "    else:\n",
    "        data_p.loc[i, 'sex'] = 1\n",
    "        \n",
    "X = data_p.iloc[:,:-1]\n",
    "y = data_p['sex']\n",
    "\n",
    "#建立訓練及測試資料\n",
    "X_train, X_test, y_train, y_test = train_test_split(X, y, test_size=0.3, random_state=42)\n",
    "X_train_std = (X_train - X_train.mean())/X_train.std()\n",
    "X_test_std = (X_test - X_test.mean())/X_test.std()"
   ]
  },
  {
   "attachments": {},
   "cell_type": "markdown",
   "metadata": {},
   "source": [
    "LR"
   ]
  },
  {
   "cell_type": "code",
   "execution_count": 263,
   "metadata": {},
   "outputs": [],
   "source": [
    "#訓練並預測test資料\n",
    "model = LogisticRegression().fit(X_train_std, y_train)\n",
    "y_pred = model.predict(X_test_std)\n",
    "\n",
    "#建立confusion matrix並呈現指標\n",
    "cm = confusion_matrix(y_test, y_pred)\n",
    "accuracy_LR = (cm[1,1]+cm[0,0])/cm.sum()\n",
    "sensitivity_LR = cm[1,1]/(cm[1,1]+cm[1,0])\n",
    "specificity_LR = cm[0,0]/(cm[0,0]+cm[0,1])\n",
    "precision_LR = cm[1,1]/(cm[1,1]+cm[0,1])\n",
    "LR_ind = [accuracy_LR, sensitivity_LR, specificity_LR, precision_LR]"
   ]
  },
  {
   "attachments": {},
   "cell_type": "markdown",
   "metadata": {},
   "source": [
    "KNN"
   ]
  },
  {
   "cell_type": "code",
   "execution_count": 264,
   "metadata": {},
   "outputs": [],
   "source": [
    "#訓練並預測test資料\n",
    "model = KNeighborsClassifier(n_neighbors=5).fit(X_train_std, y_train)\n",
    "y_pred = model.predict(X_test_std)\n",
    "\n",
    "#建立confusion matrix並呈現指標\n",
    "cm = confusion_matrix(y_test, y_pred)\n",
    "accuracy_KNN = (cm[1,1]+cm[0,0])/cm.sum()\n",
    "sensitivity_KNN = cm[1,1]/(cm[1,1]+cm[1,0])\n",
    "specificity_KNN = cm[0,0]/(cm[0,0]+cm[0,1])\n",
    "precision_KNN = cm[1,1]/(cm[1,1]+cm[0,1])\n",
    "KNN_ind = [accuracy_KNN, sensitivity_KNN, specificity_KNN, precision_KNN]"
   ]
  },
  {
   "attachments": {},
   "cell_type": "markdown",
   "metadata": {},
   "source": [
    "SVM"
   ]
  },
  {
   "cell_type": "code",
   "execution_count": 266,
   "metadata": {},
   "outputs": [],
   "source": [
    "#訓練並預測test資料\n",
    "model = svm.LinearSVC().fit(X_train_std, y_train)\n",
    "y_pred = model.predict(X_test_std)\n",
    "\n",
    "#建立confusion matrix並呈現指標\n",
    "cm = confusion_matrix(y_test, y_pred)\n",
    "accuracy_SVM = (cm[1,1]+cm[0,0])/cm.sum()\n",
    "sensitivity_SVM = cm[1,1]/(cm[1,1]+cm[1,0])\n",
    "specificity_SVM = cm[0,0]/(cm[0,0]+cm[0,1])\n",
    "precision_SVM = cm[1,1]/(cm[1,1]+cm[0,1])\n",
    "SVM_ind = [accuracy_SVM, sensitivity_SVM, specificity_SVM, precision_SVM]"
   ]
  },
  {
   "cell_type": "code",
   "execution_count": 267,
   "metadata": {},
   "outputs": [
    {
     "data": {
      "text/html": [
       "<div>\n",
       "<style scoped>\n",
       "    .dataframe tbody tr th:only-of-type {\n",
       "        vertical-align: middle;\n",
       "    }\n",
       "\n",
       "    .dataframe tbody tr th {\n",
       "        vertical-align: top;\n",
       "    }\n",
       "\n",
       "    .dataframe thead th {\n",
       "        text-align: right;\n",
       "    }\n",
       "</style>\n",
       "<table border=\"1\" class=\"dataframe\">\n",
       "  <thead>\n",
       "    <tr style=\"text-align: right;\">\n",
       "      <th></th>\n",
       "      <th>LR</th>\n",
       "      <th>KNN</th>\n",
       "      <th>SVM</th>\n",
       "    </tr>\n",
       "  </thead>\n",
       "  <tbody>\n",
       "    <tr>\n",
       "      <th>accuracy</th>\n",
       "      <td>0.958333</td>\n",
       "      <td>0.950000</td>\n",
       "      <td>0.950000</td>\n",
       "    </tr>\n",
       "    <tr>\n",
       "      <th>sensitivity</th>\n",
       "      <td>1.000000</td>\n",
       "      <td>1.000000</td>\n",
       "      <td>0.970874</td>\n",
       "    </tr>\n",
       "    <tr>\n",
       "      <th>specificity</th>\n",
       "      <td>0.705882</td>\n",
       "      <td>0.647059</td>\n",
       "      <td>0.823529</td>\n",
       "    </tr>\n",
       "    <tr>\n",
       "      <th>precision</th>\n",
       "      <td>0.953704</td>\n",
       "      <td>0.944954</td>\n",
       "      <td>0.970874</td>\n",
       "    </tr>\n",
       "  </tbody>\n",
       "</table>\n",
       "</div>"
      ],
      "text/plain": [
       "                   LR       KNN       SVM\n",
       "accuracy     0.958333  0.950000  0.950000\n",
       "sensitivity  1.000000  1.000000  0.970874\n",
       "specificity  0.705882  0.647059  0.823529\n",
       "precision    0.953704  0.944954  0.970874"
      ]
     },
     "execution_count": 267,
     "metadata": {},
     "output_type": "execute_result"
    }
   ],
   "source": [
    "results = [LR_ind, KNN_ind, SVM_ind]\n",
    "\n",
    "df_results = pd.DataFrame(results,\n",
    "                          columns=['accuracy', 'sensitivity', 'specificity', 'precision'],\n",
    "                          index=['LR', 'KNN', 'SVM']).T\n",
    "\n",
    "df_results\n"
   ]
  },
  {
   "attachments": {},
   "cell_type": "markdown",
   "metadata": {},
   "source": [
    "# Q2"
   ]
  },
  {
   "attachments": {},
   "cell_type": "markdown",
   "metadata": {},
   "source": [
    "利用LASSO regression 篩選出重要的pixel"
   ]
  },
  {
   "cell_type": "code",
   "execution_count": 328,
   "metadata": {},
   "outputs": [],
   "source": [
    "lasso = Lasso(alpha=0.01)\n",
    "lasso.fit(X_train_std , y_train)\n",
    "\n",
    "coef = pd.Series(lasso.coef_, index=X.columns)\n",
    "important_features = coef[coef.abs() > 0].index.tolist()\n",
    "\n",
    "X_train_std = X_train_std[important_features]\n",
    "X_test_std = X_test_std[important_features]"
   ]
  },
  {
   "cell_type": "code",
   "execution_count": 329,
   "metadata": {},
   "outputs": [
    {
     "data": {
      "text/plain": [
       "95"
      ]
     },
     "execution_count": 329,
     "metadata": {},
     "output_type": "execute_result"
    }
   ],
   "source": [
    "len(important_features)"
   ]
  },
  {
   "attachments": {},
   "cell_type": "markdown",
   "metadata": {},
   "source": [
    "LR"
   ]
  },
  {
   "cell_type": "code",
   "execution_count": 330,
   "metadata": {},
   "outputs": [],
   "source": [
    "#訓練並預測test資料\n",
    "model = LogisticRegression().fit(X_train_std, y_train)\n",
    "y_pred = model.predict(X_test_std)\n",
    "\n",
    "#建立confusion matrix並呈現指標\n",
    "cm = confusion_matrix(y_test, y_pred)\n",
    "accuracy_LR = (cm[1,1]+cm[0,0])/cm.sum()\n",
    "sensitivity_LR = cm[1,1]/(cm[1,1]+cm[1,0])\n",
    "specificity_LR = cm[0,0]/(cm[0,0]+cm[0,1])\n",
    "precision_LR = cm[1,1]/(cm[1,1]+cm[0,1])\n",
    "LR_ind = [accuracy_LR, sensitivity_LR, specificity_LR, precision_LR]"
   ]
  },
  {
   "attachments": {},
   "cell_type": "markdown",
   "metadata": {},
   "source": [
    "KNN"
   ]
  },
  {
   "cell_type": "code",
   "execution_count": 331,
   "metadata": {},
   "outputs": [],
   "source": [
    "#訓練並預測test資料\n",
    "model = KNeighborsClassifier(n_neighbors=5).fit(X_train_std, y_train)\n",
    "y_pred = model.predict(X_test_std)\n",
    "\n",
    "#建立confusion matrix並呈現指標\n",
    "cm = confusion_matrix(y_test, y_pred)\n",
    "accuracy_KNN = (cm[1,1]+cm[0,0])/cm.sum()\n",
    "sensitivity_KNN = cm[1,1]/(cm[1,1]+cm[1,0])\n",
    "specificity_KNN = cm[0,0]/(cm[0,0]+cm[0,1])\n",
    "precision_KNN = cm[1,1]/(cm[1,1]+cm[0,1])\n",
    "KNN_ind = [accuracy_KNN, sensitivity_KNN, specificity_KNN, precision_KNN]"
   ]
  },
  {
   "attachments": {},
   "cell_type": "markdown",
   "metadata": {},
   "source": [
    "SVM"
   ]
  },
  {
   "cell_type": "code",
   "execution_count": 332,
   "metadata": {},
   "outputs": [],
   "source": [
    "#訓練並預測test資料\n",
    "model = svm.LinearSVC().fit(X_train_std, y_train)\n",
    "y_pred = model.predict(X_test_std)\n",
    "\n",
    "#建立confusion matrix並呈現指標\n",
    "cm = confusion_matrix(y_test, y_pred)\n",
    "accuracy_SVM = (cm[1,1]+cm[0,0])/cm.sum()\n",
    "sensitivity_SVM = cm[1,1]/(cm[1,1]+cm[1,0])\n",
    "specificity_SVM = cm[0,0]/(cm[0,0]+cm[0,1])\n",
    "precision_SVM = cm[1,1]/(cm[1,1]+cm[0,1])\n",
    "SVM_ind = [accuracy_SVM, sensitivity_SVM, specificity_SVM, precision_SVM]"
   ]
  },
  {
   "cell_type": "code",
   "execution_count": 333,
   "metadata": {},
   "outputs": [
    {
     "data": {
      "text/html": [
       "<div>\n",
       "<style scoped>\n",
       "    .dataframe tbody tr th:only-of-type {\n",
       "        vertical-align: middle;\n",
       "    }\n",
       "\n",
       "    .dataframe tbody tr th {\n",
       "        vertical-align: top;\n",
       "    }\n",
       "\n",
       "    .dataframe thead th {\n",
       "        text-align: right;\n",
       "    }\n",
       "</style>\n",
       "<table border=\"1\" class=\"dataframe\">\n",
       "  <thead>\n",
       "    <tr style=\"text-align: right;\">\n",
       "      <th></th>\n",
       "      <th>LR</th>\n",
       "      <th>KNN</th>\n",
       "      <th>SVM</th>\n",
       "    </tr>\n",
       "  </thead>\n",
       "  <tbody>\n",
       "    <tr>\n",
       "      <th>accuracy</th>\n",
       "      <td>0.950000</td>\n",
       "      <td>0.958333</td>\n",
       "      <td>0.950000</td>\n",
       "    </tr>\n",
       "    <tr>\n",
       "      <th>sensitivity</th>\n",
       "      <td>1.000000</td>\n",
       "      <td>1.000000</td>\n",
       "      <td>1.000000</td>\n",
       "    </tr>\n",
       "    <tr>\n",
       "      <th>specificity</th>\n",
       "      <td>0.647059</td>\n",
       "      <td>0.705882</td>\n",
       "      <td>0.647059</td>\n",
       "    </tr>\n",
       "    <tr>\n",
       "      <th>precision</th>\n",
       "      <td>0.944954</td>\n",
       "      <td>0.953704</td>\n",
       "      <td>0.944954</td>\n",
       "    </tr>\n",
       "  </tbody>\n",
       "</table>\n",
       "</div>"
      ],
      "text/plain": [
       "                   LR       KNN       SVM\n",
       "accuracy     0.950000  0.958333  0.950000\n",
       "sensitivity  1.000000  1.000000  1.000000\n",
       "specificity  0.647059  0.705882  0.647059\n",
       "precision    0.944954  0.953704  0.944954"
      ]
     },
     "execution_count": 333,
     "metadata": {},
     "output_type": "execute_result"
    }
   ],
   "source": [
    "results = [LR_ind, KNN_ind, SVM_ind]\n",
    "\n",
    "df_results = pd.DataFrame(results,\n",
    "                          columns=['accuracy', 'sensitivity', 'specificity', 'precision'],\n",
    "                          index=['LR', 'KNN', 'SVM']).T\n",
    "\n",
    "df_results"
   ]
  },
  {
   "attachments": {},
   "cell_type": "markdown",
   "metadata": {},
   "source": [
    "# Q3"
   ]
  },
  {
   "cell_type": "code",
   "execution_count": 3,
   "metadata": {},
   "outputs": [],
   "source": [
    "data_a = pd.read_csv('C:/Users/USER/Desktop/Course/Data Analytics/DA07/auto-mpg.data.csv')\n",
    "data_a = data_a[data_a['horsepower'] != '?']\n",
    "data_a['horsepower'] = data_a['horsepower'].astype(float)\n",
    "\n",
    "X = data_a.drop(columns=['origin', 'car name'])\n",
    "y = data_a['origin']\n",
    "\n",
    "\n",
    "X_train, X_test, y_train, y_test = train_test_split(X, y, test_size=0.3, random_state=42)\n",
    "X_train_std = (X_train - X_train.mean())/X_train.std()\n",
    "X_test_std = (X_test - X_test.mean())/X_test.std()"
   ]
  },
  {
   "attachments": {},
   "cell_type": "markdown",
   "metadata": {},
   "source": [
    "LR"
   ]
  },
  {
   "cell_type": "code",
   "execution_count": 7,
   "metadata": {},
   "outputs": [],
   "source": [
    "#訓練並預測test資料\n",
    "model = LogisticRegression().fit(X_train_std, y_train)\n",
    "y_pred = model.predict(X_test_std)\n",
    "\n",
    "#建立confusion matrix並呈現指標\n",
    "cm = confusion_matrix(y_test, y_pred)\n",
    "accuracy_LR = (cm[1,1]+cm[0,0]+cm[2,2])/cm.sum()\n",
    "sensitivity_LR = cm[1,1]/(cm[1,1]+cm[1,0])\n",
    "specificity_LR = cm[0,0]/(cm[0,0]+cm[0,1])\n",
    "precision_LR = cm[1,1]/(cm[1,1]+cm[0,1])\n",
    "LR_ind = [accuracy_LR, sensitivity_LR, specificity_LR, precision_LR]"
   ]
  },
  {
   "cell_type": "code",
   "execution_count": 6,
   "metadata": {},
   "outputs": [
    {
     "data": {
      "text/plain": [
       "array([[62,  1,  5],\n",
       "       [ 9,  9, 10],\n",
       "       [ 7,  1, 14]], dtype=int64)"
      ]
     },
     "execution_count": 6,
     "metadata": {},
     "output_type": "execute_result"
    }
   ],
   "source": [
    "cm"
   ]
  },
  {
   "attachments": {},
   "cell_type": "markdown",
   "metadata": {},
   "source": [
    "KNN"
   ]
  },
  {
   "cell_type": "code",
   "execution_count": 11,
   "metadata": {},
   "outputs": [],
   "source": [
    "#訓練並預測test資料\n",
    "model = KNeighborsClassifier(n_neighbors=5).fit(X_train_std, y_train)\n",
    "y_pred = model.predict(X_test_std)\n",
    "\n",
    "#建立confusion matrix並呈現指標\n",
    "cm = confusion_matrix(y_test, y_pred)\n",
    "accuracy_KNN = (cm[1,1]+cm[0,0])/cm.sum()\n",
    "sensitivity_KNN = cm[1,1]/(cm[1,1]+cm[1,0])\n",
    "specificity_KNN = cm[0,0]/(cm[0,0]+cm[0,1])\n",
    "precision_KNN = cm[1,1]/(cm[1,1]+cm[0,1])\n",
    "KNN_ind = [accuracy_KNN, sensitivity_KNN, specificity_KNN, precision_KNN]"
   ]
  },
  {
   "attachments": {},
   "cell_type": "markdown",
   "metadata": {},
   "source": [
    "SVM"
   ]
  },
  {
   "cell_type": "code",
   "execution_count": 13,
   "metadata": {},
   "outputs": [],
   "source": [
    "#訓練並預測test資料\n",
    "model = svm.LinearSVC().fit(X_train_std, y_train)\n",
    "y_pred = model.predict(X_test_std)\n",
    "\n",
    "#建立confusion matrix並呈現指標\n",
    "cm = confusion_matrix(y_test, y_pred)\n",
    "accuracy_SVM = (cm[1,1]+cm[0,0])/cm.sum()\n",
    "sensitivity_SVM = cm[1,1]/(cm[1,1]+cm[1,0])\n",
    "specificity_SVM = cm[0,0]/(cm[0,0]+cm[0,1])\n",
    "precision_SVM = cm[1,1]/(cm[1,1]+cm[0,1])\n",
    "SVM_ind = [accuracy_SVM, sensitivity_SVM, specificity_SVM, precision_SVM]"
   ]
  },
  {
   "cell_type": "code",
   "execution_count": 338,
   "metadata": {},
   "outputs": [
    {
     "data": {
      "text/html": [
       "<div>\n",
       "<style scoped>\n",
       "    .dataframe tbody tr th:only-of-type {\n",
       "        vertical-align: middle;\n",
       "    }\n",
       "\n",
       "    .dataframe tbody tr th {\n",
       "        vertical-align: top;\n",
       "    }\n",
       "\n",
       "    .dataframe thead th {\n",
       "        text-align: right;\n",
       "    }\n",
       "</style>\n",
       "<table border=\"1\" class=\"dataframe\">\n",
       "  <thead>\n",
       "    <tr style=\"text-align: right;\">\n",
       "      <th></th>\n",
       "      <th>LR</th>\n",
       "      <th>KNN</th>\n",
       "      <th>SVM</th>\n",
       "    </tr>\n",
       "  </thead>\n",
       "  <tbody>\n",
       "    <tr>\n",
       "      <th>accuracy</th>\n",
       "      <td>0.601695</td>\n",
       "      <td>0.610169</td>\n",
       "      <td>0.627119</td>\n",
       "    </tr>\n",
       "    <tr>\n",
       "      <th>sensitivity</th>\n",
       "      <td>0.500000</td>\n",
       "      <td>0.478261</td>\n",
       "      <td>0.625000</td>\n",
       "    </tr>\n",
       "    <tr>\n",
       "      <th>specificity</th>\n",
       "      <td>0.984127</td>\n",
       "      <td>0.968254</td>\n",
       "      <td>0.984615</td>\n",
       "    </tr>\n",
       "    <tr>\n",
       "      <th>precision</th>\n",
       "      <td>0.900000</td>\n",
       "      <td>0.846154</td>\n",
       "      <td>0.909091</td>\n",
       "    </tr>\n",
       "  </tbody>\n",
       "</table>\n",
       "</div>"
      ],
      "text/plain": [
       "                   LR       KNN       SVM\n",
       "accuracy     0.601695  0.610169  0.627119\n",
       "sensitivity  0.500000  0.478261  0.625000\n",
       "specificity  0.984127  0.968254  0.984615\n",
       "precision    0.900000  0.846154  0.909091"
      ]
     },
     "execution_count": 338,
     "metadata": {},
     "output_type": "execute_result"
    }
   ],
   "source": [
    "results = [LR_ind, KNN_ind, SVM_ind]\n",
    "\n",
    "df_results = pd.DataFrame(results,\n",
    "                          columns=['accuracy', 'sensitivity', 'specificity', 'precision'],\n",
    "                          index=['LR', 'KNN', 'SVM']).T\n",
    "\n",
    "df_results"
   ]
  }
 ],
 "metadata": {
  "kernelspec": {
   "display_name": "Python 3",
   "language": "python",
   "name": "python3"
  },
  "language_info": {
   "codemirror_mode": {
    "name": "ipython",
    "version": 3
   },
   "file_extension": ".py",
   "mimetype": "text/x-python",
   "name": "python",
   "nbconvert_exporter": "python",
   "pygments_lexer": "ipython3",
   "version": "3.11.1"
  },
  "orig_nbformat": 4
 },
 "nbformat": 4,
 "nbformat_minor": 2
}
