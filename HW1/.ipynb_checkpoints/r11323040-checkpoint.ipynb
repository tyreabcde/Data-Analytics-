{
 "cells": [
  {
   "cell_type": "markdown",
   "id": "54885551",
   "metadata": {},
   "source": [
    "# Q.11"
   ]
  },
  {
   "cell_type": "code",
   "execution_count": 12,
   "id": "1e373972",
   "metadata": {},
   "outputs": [
    {
     "data": {
      "image/png": "[encoded data removed]",
      "text/plain": [
       "<Figure size 1000x600 with 4 Axes>"
      ]
     },
     "metadata": {},
     "output_type": "display_data"
    }
   ],
   "source": [
    "\n",
    "import matplotlib.pyplot as plt\n",
    "import random\n",
    "%matplotlib inline\n",
    "\n",
    "dice = [1,2,3,4,5,6]\n",
    "amounts = [2,3,4,5]\n",
    "f = plt.figure(figsize=(10,6))\n",
    "\n",
    "def dice_avg_plot(n,dice):\n",
    "     for i, amount in enumerate(amounts,start=1):\n",
    "        points = []\n",
    "        for j in range(n):\n",
    "            point = random.choices(dice,k=amount)\n",
    "            points.append(sum(point)/amount) \n",
    "        f.add_subplot(2,2,i)\n",
    "        plt.hist(points, bins=24, density=True, rwidth=0.8 ,align='left')\n",
    "        plt.xlabel(''\n",
    "        plt.ylabel('density')\n",
    "        plt.title(f\"{amount} dice\")   \n",
    "        plt.xticks(dice)\n",
    "     plt.tight_layout()\n",
    "        \n",
    "dice_avg_plot(1000,dice)"
   ]
  },
  {
   "cell_type": "markdown",
   "id": "79aa52ef",
   "metadata": {},
   "source": [
    "# Q.12.a"
   ]
  },
  {
   "cell_type": "code",
   "execution_count": 3,
   "id": "6227a152",
   "metadata": {},
   "outputs": [
    {
     "name": "stdout",
     "output_type": "stream",
     "text": [
      "The probability that all the first 10 cards reach the same end is estimated to be 58.246%\n"
     ]
    }
   ],
   "source": [
    "\n",
    "class card:\n",
    "    def __init__(self, suit, point):\n",
    "        self.suit = suit\n",
    "        self.point = point    \n",
    "        if point in ['J','Q','K']: #人頭點數為5\n",
    "            self.value = 5\n",
    "        elif point == 'A': #Ace點數為1\n",
    "            self.value = 1\n",
    "        else: \n",
    "            self.value = int(point)   \n",
    "    def __repr__(self):    \n",
    "        return f'{self.suit}{self.point}'\n",
    "\n",
    "suits = ['c','s','d','h']  #c=club, s=space, d=diamond, h=heart\n",
    "points = ['A','2','3','4','5','6','7','8','9','10','J','Q','K']\n",
    "\n",
    "cards = [card(suit, point) for suit in suits for point in points] \n",
    "\n",
    "#建立kruskal count game 並回傳前10張牌所抵達的終點\n",
    "def kruskal_count_game(cards): \n",
    "    cards10 = cards[:10]   \n",
    "    end = set()  \n",
    "    for card in cards10:\n",
    "        clist = []  #建立清單紀錄停留過的牌      \n",
    "        step_count = int(cards.index(card))\n",
    "        clist.append(cards[step_count])  #紀錄第一張牌的位置     \n",
    "        while True:\n",
    "            try:\n",
    "                step_count += cards[step_count].value  #依照牌面代表的點數增加步數\n",
    "                clist.append(cards[step_count])\n",
    "            except: \n",
    "                break   #當step_count超過52會顯示錯誤，此時終止迴圈        \n",
    "        end.add(clist[-1]) \n",
    "    return end \n",
    "\n",
    "#計算第一排全數抵達同樣終點之機率\n",
    "def simulate(n):\n",
    "    same = 0    \n",
    "    for n in range(n):\n",
    "        random.shuffle(cards)    \n",
    "        final_card = kruskal_count_game(cards)    \n",
    "        if len(final_card) == 1:  #檢視是否前10張都抵達一樣的終點\n",
    "            same += 1            \n",
    "    same_rate = same/n    \n",
    "    return same_rate                \n",
    "print(\"The probability that all the first 10 cards reach the same end is estimated to be \" + f\"{simulate(10000):.3%}\")\n"
   ]
  },
  {
   "cell_type": "markdown",
   "id": "1490134d",
   "metadata": {},
   "source": [
    "# Q.12.b"
   ]
  },
  {
   "cell_type": "code",
   "execution_count": 9,
   "id": "6d3e3635",
   "metadata": {
    "scrolled": true,
    "tags": []
   },
   "outputs": [
    {
     "name": "stdout",
     "output_type": "stream",
     "text": [
      "face card point is 1 and 52 cards: 82.058%\n",
      "face card point is 3 and 52 cards: 70.737%\n",
      "face card point is 5 and 52 cards: 59.136%\n",
      "face card point is 7 and 52 cards: 46.325%\n",
      "face card point is 9 and 52 cards: 33.673%\n",
      "face card point is 1 and 104 cards: 99.040%\n",
      "face card point is 3 and 104 cards: 97.170%\n",
      "face card point is 5 and 104 cards: 93.899%\n",
      "face card point is 7 and 104 cards: 89.079%\n",
      "face card point is 9 and 104 cards: 81.678%\n"
     ]
    }
   ],
   "source": [
    "\n",
    "for n in [1,2]:\n",
    "    for i in [1,3,5,7,9]:\n",
    "        class card:\n",
    "            def __init__(self, suit, point):\n",
    "                self.suit = suit\n",
    "                self.point = point    \n",
    "                if point in ['J','Q','K']: \n",
    "                    self.value = i\n",
    "                elif point == 'A': \n",
    "                    self.value = 1\n",
    "                else: \n",
    "                    self.value = int(point)   \n",
    "            def __repr__(self):    \n",
    "                return f'{self.suit}{self.point}'    \n",
    "        cards = [card(suit, point) for suit in suits for point in points]*n\n",
    "        print(\"face card point is \" + str(i) + ' and ' + str(52*n) + ' cards' + ': ' + f\"{simulate(10000):.3%}\")\n"
   ]
  },
  {
   "cell_type": "code",
   "execution_count": null,
   "id": "f41edf64",
   "metadata": {},
   "outputs": [],
   "source": []
  }
 ],
 "metadata": {
  "kernelspec": {
   "display_name": "Python 3 (ipykernel)",
   "language": "python",
   "name": "python3"
  },
  "language_info": {
   "codemirror_mode": {
    "name": "ipython",
    "version": 3
   },
   "file_extension": ".py",
   "mimetype": "text/x-python",
   "name": "python",
   "nbconvert_exporter": "python",
   "pygments_lexer": "ipython3",
   "version": "3.9.12"
  },
  "vscode": {
   "interpreter": {
    "hash": "d417a21d97a2e6b8832d21dc44f5cbe4be6e18325f874a8bb8484565b928cd54"
   }
  }
 },
 "nbformat": 4,
 "nbformat_minor": 5
}
