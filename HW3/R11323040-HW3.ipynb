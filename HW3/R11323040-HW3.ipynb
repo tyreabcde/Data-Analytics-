{
 "cells": [
  {
   "cell_type": "code",
   "execution_count": 27,
   "metadata": {},
   "outputs": [],
   "source": [
    "import pandas as pd\n",
    "import numpy as np\n",
    "import statsmodels.api as sm\n",
    "from statsmodels.stats.outliers_influence import variance_inflation_factor"
   ]
  },
  {
   "cell_type": "code",
   "execution_count": 34,
   "metadata": {},
   "outputs": [],
   "source": [
    "data = pd.read_csv('auto-mpg.data.csv')\n",
    "data = data[data['horsepower'] != '?']\n",
    "data['horsepower'] = data['horsepower'].astype(float)"
   ]
  },
  {
   "cell_type": "code",
   "execution_count": 42,
   "metadata": {},
   "outputs": [
    {
     "name": "stdout",
     "output_type": "stream",
     "text": [
      "the VIFs of cylinders is 117.70854741316116\n",
      "the VIFs of displacement is 96.90976248526793\n",
      "the VIFs of horsepower is 67.07215430169894\n",
      "the VIFs of weight is 139.45416214259953\n",
      "the VIFs of acceleration is 69.69976893381958\n",
      "the VIFs of model year is 115.7946144892812\n",
      "the VIFs of origin is 8.469941669334569\n"
     ]
    }
   ],
   "source": [
    "y = data['mpg']\n",
    "xvar = ['cylinders', 'displacement', 'horsepower', 'weight', 'acceleration', 'model year', 'origin']\n",
    "X = data[xvar]\n",
    "model = sm.OLS(y,X).fit()\n",
    "VIFs = [variance_inflation_factor(X.values, i) for i in range(X.shape[1])]\n",
    "for x,vif in zip(xvar,VIFs):\n",
    "    print(f'the VIFs of {x} is {vif}') "
   ]
  }
 ],
 "metadata": {
  "kernelspec": {
   "display_name": "Python 3",
   "language": "python",
   "name": "python3"
  },
  "language_info": {
   "codemirror_mode": {
    "name": "ipython",
    "version": 3
   },
   "file_extension": ".py",
   "mimetype": "text/x-python",
   "name": "python",
   "nbconvert_exporter": "python",
   "pygments_lexer": "ipython3",
   "version": "3.11.1"
  },
  "orig_nbformat": 4
 },
 "nbformat": 4,
 "nbformat_minor": 2
}
